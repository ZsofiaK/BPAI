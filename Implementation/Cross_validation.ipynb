{
  "cells": [
    {
      "attachments": {},
      "cell_type": "markdown",
      "metadata": {
        "id": "JsRU5vp8NY_H"
      },
      "source": [
        "# Cross validation\n",
        "\n",
        "Finding the best hyperparameters for each model on the complete dataset."
      ]
    },
    {
      "cell_type": "code",
      "execution_count": 1,
      "metadata": {
        "id": "6_VRKNmeNY_L"
      },
      "outputs": [],
      "source": [
        "import numpy as np\n",
        "import pandas as pd\n",
        "\n",
        "from sklearn.model_selection import train_test_split, cross_val_predict\n",
        "from sklearn.metrics import mean_squared_error\n",
        "\n",
        "from sklearn.base import BaseEstimator, RegressorMixin\n",
        "\n",
        "from sklearn.ensemble import RandomForestRegressor, GradientBoostingRegressor\n",
        "from sklearn.svm import SVC\n",
        "from sklego.meta import ZeroInflatedRegressor\n",
        "\n",
        "import statsmodels.api as sm\n",
        "from statsmodels.othermod.betareg import BetaModel\n",
        "\n",
        "from matplotlib import pyplot as plt\n",
        "\n",
        "from IPython.display import clear_output\n",
        "\n",
        "import warnings"
      ]
    },
    {
      "attachments": {},
      "cell_type": "markdown",
      "metadata": {},
      "source": [
        "## Auxilliary functions"
      ]
    },
    {
      "cell_type": "code",
      "execution_count": 2,
      "metadata": {},
      "outputs": [],
      "source": [
        "def aggregate(data_role:str, data_X:np.ndarray, data_y:np.ndarray, noSupply_value:float) -> np.ndarray:\n",
        "    '''Creates a dataset from raw data according to a 5-points-wide aggregated sliding window. Assumes no header rows.\n",
        "    :param: data_role: whether the array to aggregate is the predictor (\"X\") or target (\"y\")\n",
        "    :param: data_X: the predictor columns of the dataset to aggregate\n",
        "    :param: data_Y: the target columns of the dataset to aggregate\n",
        "    :param: noSupply_value: the value to substitute in the target variable if there was no shoot supply\n",
        "    :return: the aggregated data array.\n",
        "    '''\n",
        "\n",
        "    if data_role == 'X':\n",
        "        processed_data = data_X.copy()\n",
        "\n",
        "        processed_data = processed_data.astype(float)\n",
        "\n",
        "        rows, cols = np.shape(data_X)\n",
        "\n",
        "        for i in range(rows):\n",
        "            for j in range(0, cols, 3):\n",
        "                # Choosing 5 adjacent points within the limit of one forest.\n",
        "                start_row = max(i - 2, int((i // 100 * 100 + 1)))\n",
        "                end_row = min(i + 2, int((i // 100 + 1) * 100 - 1))\n",
        "\n",
        "                processed_data[i, j] = np.sum(data_X[start_row:end_row+1, j].astype(float))\n",
        "\n",
        "    elif data_role == 'y':\n",
        "        processed_data = data_y.copy()\n",
        "\n",
        "        processed_data[1:, :] = processed_data[1:, :].astype(float)\n",
        "\n",
        "        rows, cols = np.shape(data_y)\n",
        "\n",
        "        for i in range(rows):\n",
        "            for j in range(cols):\n",
        "                # Choosing 5 adjacent points within the limit of one forest.\n",
        "                start_row = max(i - 2, int((i // 100 * 100) + 1))  \n",
        "                end_row = min(i + 2, int((i // 100 + 1) * 100 - 1))\n",
        "\n",
        "                aggregated_supply = np.sum(data_X[start_row:end_row+1, j * 3].astype(float))\n",
        "\n",
        "                if aggregated_supply > 0:\n",
        "                    aggregated_browsed = sum([(float(data_X[row,j*3]) / float(aggregated_supply)) * float(data_y[row,j]) \\\n",
        "                        for row in range(start_row, end_row+1)])\n",
        "\n",
        "                    processed_data[i,j] = aggregated_browsed\n",
        "\n",
        "                else:\n",
        "                    processed_data[i, j] = noSupply_value\n",
        "\n",
        "    return processed_data\n",
        "\n",
        "def normalize_TS(X:np.ndarray) -> np.ndarray:\n",
        "    '''Normalizes the TS columns of a predictor array.\n",
        "    :param: X: the array which contains the columns to normalize.\n",
        "    :return: the complete array in which the TS columns are now normalized.'''\n",
        "\n",
        "    X_normalized = X.copy()\n",
        "\n",
        "    cols_to_normalize = [i for i in range(np.shape(X)[1]) if i % 3 == 0]\n",
        "\n",
        "    smoothing = 0.00001     # Applied so that 0 division does not cause any problems while normalizing.\n",
        "\n",
        "    X_normalized[:, cols_to_normalize] = (X[:, cols_to_normalize] - (X[:, cols_to_normalize].min(axis=0))) \\\n",
        "                            / (X[:, cols_to_normalize].max(axis=0) - (X[:, cols_to_normalize].min(axis=0)) + smoothing)\n",
        "    \n",
        "    return X_normalized\n",
        "\n",
        "def adjust_predictions(y_pred:np.ndarray, X:np.ndarray, noSupply_value:float) -> np.ndarray:\n",
        "    '''Ensures that the specified noSupply_value is predicted whenever there is no shoot supply\n",
        "    and that there are no negative predictions when there IS supply.\n",
        "    :param: y_pred: the array of original predictions.\n",
        "    :param: X: the array of predictors.\n",
        "    :param: noSupply_value: the value to predict in case of no supply.\n",
        "    :return: the adjusted array of predictions.\n",
        "    '''\n",
        "\n",
        "    y_pred_adjusted = y_pred.copy()\n",
        "\n",
        "    for i in range(y_pred.shape[0]):\n",
        "            for j in range(y_pred.shape[1]):\n",
        "                if X[i, j * 3] == 0:\n",
        "                    y_pred_adjusted[i, j] = noSupply_value\n",
        "\n",
        "                elif y_pred[i, j] < 0:\n",
        "                    y_pred_adjusted[i, j] = 0\n",
        "\n",
        "    return y_pred_adjusted\n",
        "    "
      ]
    },
    {
      "attachments": {},
      "cell_type": "markdown",
      "metadata": {},
      "source": [
        "## Loading and aggregating dataset"
      ]
    },
    {
      "cell_type": "code",
      "execution_count": 3,
      "metadata": {
        "id": "8zpFBJbQNY_R"
      },
      "outputs": [],
      "source": [
        "# Reading data as pandas dataframe to allow for headers\n",
        "X_df = pd.read_csv('./Data/predictors_fl.csv')\n",
        "y_df = pd.read_csv('./Data/freshly_browsed_dist_fl.csv')"
      ]
    },
    {
      "cell_type": "code",
      "execution_count": 4,
      "metadata": {
        "id": "qWmNICv4NY_U"
      },
      "outputs": [],
      "source": [
        "# Numpy data arrays excluding headers\n",
        "X = X_df.values\n",
        "y = y_df.values"
      ]
    },
    {
      "cell_type": "code",
      "execution_count": 5,
      "metadata": {
        "colab": {
          "base_uri": "https://localhost:8080/"
        },
        "id": "zIUN8L1oNY_Y",
        "outputId": "4133f9f5-7fbf-4542-89d3-0ecc87bbc149"
      },
      "outputs": [
        {
          "name": "stdout",
          "output_type": "stream",
          "text": [
            "Shape of predictors: (2100, 81)\n",
            "Shape of target values: (2100, 27)\n"
          ]
        }
      ],
      "source": [
        "print(f'Shape of predictors: {np.shape(X)}')\n",
        "print(f'Shape of target values: {np.shape(y)}')"
      ]
    },
    {
      "cell_type": "code",
      "execution_count": 6,
      "metadata": {},
      "outputs": [],
      "source": [
        "noSupply_value = -0.00001"
      ]
    },
    {
      "cell_type": "code",
      "execution_count": 7,
      "metadata": {},
      "outputs": [],
      "source": [
        "X_agg = aggregate('X', X, y, noSupply_value)\n",
        "y_agg = aggregate('y', X, y, noSupply_value)"
      ]
    },
    {
      "cell_type": "code",
      "execution_count": 8,
      "metadata": {},
      "outputs": [],
      "source": [
        "X_agg = normalize_TS(X_agg)"
      ]
    },
    {
      "cell_type": "code",
      "execution_count": 9,
      "metadata": {},
      "outputs": [],
      "source": [
        "X_train, X_test, y_train, y_test = train_test_split(X_agg, y_agg, test_size=200, random_state=23)"
      ]
    },
    {
      "attachments": {},
      "cell_type": "markdown",
      "metadata": {
        "id": "_uF2fJWjNY_g"
      },
      "source": [
        "## Random forest regression"
      ]
    },
    {
      "cell_type": "code",
      "execution_count": 10,
      "metadata": {
        "colab": {
          "base_uri": "https://localhost:8080/"
        },
        "id": "MD3JuaQ1NY_h",
        "outputId": "bf1b6c15-2468-4120-f616-eca84afcc6b8"
      },
      "outputs": [
        {
          "name": "stdout",
          "output_type": "stream",
          "text": [
            "Progress: 100.0%\n"
          ]
        }
      ],
      "source": [
        "# Perform cross-validation to find the best hyperparameters\n",
        "n_estimators = [i for i in range(1, 101, 10)]\n",
        "max_depth = [None]\n",
        "max_depth.extend([i for i in range(1, 11, 2)])\n",
        "max_samples = [None]\n",
        "max_samples.extend([i/10 for i in range(2, 10, 2)])\n",
        "\n",
        "total_combinations = len(n_estimators) * len(max_depth) * len(max_samples)\n",
        "progress_counter = 0\n",
        "\n",
        "best_score = float('inf')\n",
        "best_n_estimators = None\n",
        "best_max_depth = None\n",
        "\n",
        "for est in n_estimators:\n",
        "    for depth in max_depth:\n",
        "        for samples in max_samples:\n",
        "            rf = RandomForestRegressor(n_estimators=est, max_depth=depth, max_samples=samples, random_state=23)\n",
        "            y_pred_cv = cross_val_predict(rf, X_train, y_train, cv=2)\n",
        "\n",
        "            # Apply modification to the predicted values based on X values\n",
        "            y_pred_cv = adjust_predictions(y_pred_cv, X_train, noSupply_value)\n",
        "\n",
        "            mean_score = mean_squared_error(y_train, y_pred_cv)\n",
        "\n",
        "            if mean_score < best_score:\n",
        "                best_score = mean_score\n",
        "                best_n_estimators = est\n",
        "                best_max_depth = depth\n",
        "                best_max_samples = samples\n",
        "\n",
        "            progress_counter += 1\n",
        "            progress_percent = progress_counter / total_combinations * 100\n",
        "\n",
        "            clear_output(wait=True)\n",
        "            print(f'Progress: {progress_percent:.1f}%')"
      ]
    },
    {
      "cell_type": "code",
      "execution_count": 11,
      "metadata": {},
      "outputs": [
        {
          "name": "stdout",
          "output_type": "stream",
          "text": [
            "Summary of cross validation for Random Forest:\n",
            "Number of trees: 71\n",
            "Maximum tree depth: None\n",
            "Number of samples used to train a single tree: None\n"
          ]
        }
      ],
      "source": [
        "print(f'Summary of cross validation for Random Forest:')\n",
        "print(f'Number of trees: {best_n_estimators}')\n",
        "print(f'Maximum tree depth: {best_max_depth}')\n",
        "print(f'Number of samples used to train a single tree: {best_max_samples}')"
      ]
    },
    {
      "cell_type": "code",
      "execution_count": 12,
      "metadata": {},
      "outputs": [],
      "source": [
        "with open('./CV/rf.csv', 'w') as file:\n",
        "    file.write(f'best_n_estimators,{best_n_estimators}\\n')\n",
        "    file.write(f'best_max_depth,{best_max_depth}\\n')\n",
        "    file.write(f'best_max_samples,{best_max_samples}')"
      ]
    },
    {
      "cell_type": "code",
      "execution_count": 13,
      "metadata": {
        "colab": {
          "base_uri": "https://localhost:8080/"
        },
        "id": "8loxRJ_FNY_n",
        "outputId": "57636f7e-1212-4c74-ca67-ba8bf4209394"
      },
      "outputs": [
        {
          "name": "stdout",
          "output_type": "stream",
          "text": [
            "Summary of errors:\n",
            "Min Error: -0.806072292339898\n",
            "Max Error: 0.29049840933714177\n",
            "Mean Error: 0.0028968174312579463\n",
            "Median Error: 0.0\n",
            "Standard Deviation of Errors: 0.023939287319952367\n",
            "\n"
          ]
        }
      ],
      "source": [
        "# Train the random forest regressor with the best hyperparameters\n",
        "rf = RandomForestRegressor(n_estimators=best_n_estimators, max_depth=best_max_depth, \\\n",
        "                           max_samples=best_max_samples, random_state=23)\n",
        "rf.fit(X_train, y_train)\n",
        "\n",
        "# Predict on the test set\n",
        "y_pred_test = rf.predict(X_test)\n",
        "\n",
        "# Apply modification to the predicted values based on X values\n",
        "y_pred_test = adjust_predictions(y_pred_test, X_test, noSupply_value)\n",
        "\n",
        "# Calculate prediction errors on the test set\n",
        "errors = y_pred_test - y_test\n",
        "\n",
        "# Report the desired metrics\n",
        "min_error = np.min(errors)\n",
        "max_error = np.max(errors)\n",
        "mean_error = np.mean(np.abs(errors))\n",
        "median_error = np.median(errors)\n",
        "std_error = np.std(np.abs(errors))\n",
        "\n",
        "print(f'Summary of errors:')\n",
        "print(\"Min Error:\", min_error)\n",
        "print(\"Max Error:\", max_error)\n",
        "print(\"Mean Error:\", mean_error)\n",
        "print(\"Median Error:\", median_error)\n",
        "print(\"Standard Deviation of Errors:\", std_error)\n",
        "print('')"
      ]
    },
    {
      "cell_type": "code",
      "execution_count": 14,
      "metadata": {
        "colab": {
          "base_uri": "https://localhost:8080/"
        },
        "id": "BJoECdEINY_p",
        "outputId": "b2a9da38-3b59-4f3b-bada-d117b0166569"
      },
      "outputs": [
        {
          "name": "stdout",
          "output_type": "stream",
          "text": [
            "Percentage of negative predictions (i.e., due to no supply):\n",
            "TRUE DATA - PREDICTIONS\n",
            "92.33 - 92.33 \n",
            "\n",
            "Percentage of freshly browsed values above 0.25:\n",
            "TRUE DATA - PREDICTIONS\n",
            "0.69 - 0.41 \n",
            "\n",
            "Percentage of freshly browsed values above 0.5:\n",
            "TRUE DATA - PREDICTIONS\n",
            "0.20 - 0.09 \n",
            "\n",
            "Percentage of freshly browsed values above 0.75:\n",
            "TRUE DATA - PREDICTIONS\n",
            "0.09 - 0.00 \n",
            "\n"
          ]
        }
      ],
      "source": [
        "thresholds = [0.25, 0.5, 0.75]\n",
        "\n",
        "nr_values = y_test.shape[0] * y_test.shape[1]\n",
        "\n",
        "threshold_tuples = [(np.sum(y_test > th) / nr_values * 100, \\\n",
        "                     np.count_nonzero(np.logical_and(y_test > th, y_pred_test > th)) / nr_values * 100) \\\n",
        "                        for th in thresholds]\n",
        "\n",
        "negative_tuple = (np.sum(y_test < 0) / nr_values * 100, np.sum(y_pred_test < 0) / nr_values * 100)\n",
        "\n",
        "print(f'Percentage of negative predictions (i.e., due to no supply):')\n",
        "print(f'TRUE DATA - PREDICTIONS')\n",
        "print(f'{negative_tuple[0]:.2f} - {negative_tuple[1]:.2f}', '\\n')\n",
        "\n",
        "for i, th in enumerate(thresholds):\n",
        "    print(f'Percentage of freshly browsed values above {th}:')\n",
        "    print(f'TRUE DATA - PREDICTIONS')\n",
        "    print(f'{threshold_tuples[i][0]:.2f} - {threshold_tuples[i][1]:.2f}', '\\n')"
      ]
    },
    {
      "cell_type": "code",
      "execution_count": 15,
      "metadata": {
        "colab": {
          "base_uri": "https://localhost:8080/",
          "height": 489
        },
        "id": "zJQthoJUNY_q",
        "outputId": "c42b5825-4ecb-4dec-d4f9-50fbc60431da"
      },
      "outputs": [
        {
          "name": "stdout",
          "output_type": "stream",
          "text": [
            "Total number of values in target vectors: 5400\n"
          ]
        },
        {
          "data": {
            "image/png": "[encoded data removed]",
            "text/plain": [
              "<Figure size 550x500 with 1 Axes>"
            ]
          },
          "metadata": {},
          "output_type": "display_data"
        }
      ],
      "source": [
        "# Plotting difference in values above thresholds.\n",
        "nr_values = y_test.shape[0] * y_test.shape[1]\n",
        "print(f'Total number of values in target vectors: {nr_values}')\n",
        "\n",
        "bar_width = 0.35\n",
        "\n",
        "bar_positions1 = [x - bar_width / 2 for x in range(len(threshold_tuples))]\n",
        "bar_positions2 = [x + bar_width / 2 for x in range(len(threshold_tuples))]\n",
        "\n",
        "fig, ax = plt.subplots(figsize=(5.5,5))\n",
        "\n",
        "ax.bar_label(plt.bar(bar_positions1, [t[0] for t in threshold_tuples], \\\n",
        "    width=bar_width, color='cornflowerblue', label='TRUE VALUES'), fmt='%.2f')\n",
        "ax.bar_label(plt.bar(bar_positions2, [t[1] for t in threshold_tuples], \\\n",
        "    width=bar_width, color='orange', label='PREDICTIONS'), fmt='%.2f')\n",
        "\n",
        "ax.set_xticks(range(len(threshold_tuples)), [str(th) for th in thresholds])\n",
        "\n",
        "ax.set_xlabel('Value threshold')\n",
        "ax.set_ylabel('% of values')\n",
        "ax.set_title(f'Random Forest Regressor \\n% of values above a threshold in the target variable')\n",
        "\n",
        "ax.legend()\n",
        "\n",
        "plt.tight_layout()\n",
        "\n",
        "plt.savefig(f'./Figures/CV_RF_values_above_threshold')\n",
        "\n",
        "plt.show()"
      ]
    },
    {
      "attachments": {},
      "cell_type": "markdown",
      "metadata": {
        "id": "sASeM2R4NY_r"
      },
      "source": [
        "## Gradient boosting regressor"
      ]
    },
    {
      "cell_type": "code",
      "execution_count": 16,
      "metadata": {
        "colab": {
          "base_uri": "https://localhost:8080/"
        },
        "id": "eFcD2S_4NY_t",
        "outputId": "bb22058f-15cd-4d3f-c0a0-43daa0dd4fec"
      },
      "outputs": [
        {
          "name": "stdout",
          "output_type": "stream",
          "text": [
            "Progress: 100.0%\n",
            "Summary of cross validation for Gradient Boosting Regressor:\n",
            "Learning rate: 0.1\n",
            "Number of trees: 150\n",
            "Maximum tree depth: 5\n"
          ]
        }
      ],
      "source": [
        "# Perform cross-validation to find the best hyperparameters\n",
        "learning_rates = [0.1, 0.01, 0.001]\n",
        "n_estimators = [i for i in range(50, 550, 100)]\n",
        "max_depth = [None]\n",
        "max_depth.extend([i for i in range(1, 11, 2)])\n",
        "\n",
        "total_combinations = len(learning_rates) * len(n_estimators) * len(max_depth)\n",
        "progress_counter = 0\n",
        "\n",
        "best_score = float('inf')\n",
        "best_n_estimators = None\n",
        "best_max_depth = None\n",
        "\n",
        "for rate in learning_rates:\n",
        "    for est in n_estimators:\n",
        "        for depth in max_depth:\n",
        "            y_pred_cv = np.zeros_like(y_train)\n",
        "            gb = GradientBoostingRegressor(learning_rate=rate, n_estimators=est, max_depth=depth, random_state=42, \\\n",
        "                                            validation_fraction=0.1, n_iter_no_change=10)\n",
        "\n",
        "            for i in range(np.shape(y_train)[1]):\n",
        "                y_pred_cv[:,i] = cross_val_predict(gb, X_train, y_train[:,i], cv=2, n_jobs=-1)\n",
        "\n",
        "            # Apply modification to the predicted values based on X values\n",
        "            y_pred_cv = adjust_predictions(y_pred_cv, X_train, noSupply_value)\n",
        "\n",
        "            mean_score = mean_squared_error(y_train, y_pred_cv)\n",
        "\n",
        "            if mean_score < best_score:\n",
        "                best_score = mean_score\n",
        "                best_rate = rate\n",
        "                best_n_estimators = est\n",
        "                best_max_depth = depth\n",
        "\n",
        "            progress_counter += 1\n",
        "            progress_percent = progress_counter / total_combinations * 100\n",
        "\n",
        "            clear_output(wait=True)\n",
        "            print(f'Progress: {progress_percent:.1f}%')\n",
        "\n",
        "print(f'Summary of cross validation for Gradient Boosting Regressor:')\n",
        "print(f'Learning rate: {best_rate}')\n",
        "print(f'Number of trees: {best_n_estimators}')\n",
        "print(f'Maximum tree depth: {best_max_depth}')"
      ]
    },
    {
      "cell_type": "code",
      "execution_count": 17,
      "metadata": {},
      "outputs": [],
      "source": [
        "with open('./CV/gb.csv', 'w') as file:\n",
        "    file.write(f'best_n_estimators,{best_n_estimators}\\n')\n",
        "    file.write(f'best_max_depth,{best_max_depth}\\n')\n",
        "    file.write(f'best_rate,{best_rate}')"
      ]
    },
    {
      "cell_type": "code",
      "execution_count": 18,
      "metadata": {
        "colab": {
          "base_uri": "https://localhost:8080/"
        },
        "id": "WljaVoRZNY_x",
        "outputId": "d6230e50-6696-4aff-867a-20d84f7d2271"
      },
      "outputs": [
        {
          "name": "stdout",
          "output_type": "stream",
          "text": [
            "Summary of errors for Gradient Boosting Regressor:\n",
            "Min Error: -0.8130936010729168\n",
            "Max Error: 0.3288470340576548\n",
            "Mean Error: 0.0022587639492730044\n",
            "Median Error: 0.0\n",
            "Standard Deviation of Errors: 0.023311184293318844\n",
            "\n"
          ]
        }
      ],
      "source": [
        "gb = GradientBoostingRegressor(learning_rate=best_rate, n_estimators=best_n_estimators, \\\n",
        "    max_depth=best_max_depth, random_state=23)\n",
        "\n",
        "y_pred_test = np.zeros_like(y_test)\n",
        "\n",
        "for i in range(np.shape(y_test)[1]):\n",
        "    gb.fit(X_train, y_train[:,i])\n",
        "    y_pred_test[:,i] = gb.predict(X_test)\n",
        "\n",
        "# Apply modification to the predicted values based on X values\n",
        "y_pred_test = adjust_predictions(y_pred_test, X_test, noSupply_value)\n",
        "\n",
        "# Calculate prediction errors on the test set\n",
        "errors = y_pred_test - y_test\n",
        "\n",
        "# Report the desired metrics\n",
        "min_error = np.min(errors)\n",
        "max_error = np.max(errors)\n",
        "mean_error = np.mean(np.abs(errors))\n",
        "median_error = np.median(errors)\n",
        "std_error = np.std(np.abs(errors))\n",
        "\n",
        "print(f'Summary of errors for Gradient Boosting Regressor:')\n",
        "print(\"Min Error:\", min_error)\n",
        "print(\"Max Error:\", max_error)\n",
        "print(\"Mean Error:\", mean_error)\n",
        "print(\"Median Error:\", median_error)\n",
        "print(\"Standard Deviation of Errors:\", std_error)\n",
        "print('')"
      ]
    },
    {
      "cell_type": "code",
      "execution_count": 19,
      "metadata": {
        "colab": {
          "base_uri": "https://localhost:8080/"
        },
        "id": "GZtefJK7NY_z",
        "outputId": "cdf87af6-bcff-4903-d67b-cd37766b158c"
      },
      "outputs": [
        {
          "name": "stdout",
          "output_type": "stream",
          "text": [
            "Percentage of negative predictions (i.e., due to no supply):\n",
            "TRUE DATA - PREDICTIONS\n",
            "92.33 - 92.33 \n",
            "\n",
            "Percentage of freshly browsed values above 0.25:\n",
            "TRUE DATA - PREDICTIONS\n",
            "0.69 - 0.46 \n",
            "\n",
            "Percentage of freshly browsed values above 0.5:\n",
            "TRUE DATA - PREDICTIONS\n",
            "0.20 - 0.15 \n",
            "\n",
            "Percentage of freshly browsed values above 0.75:\n",
            "TRUE DATA - PREDICTIONS\n",
            "0.09 - 0.04 \n",
            "\n"
          ]
        }
      ],
      "source": [
        "thresholds = [0.25, 0.5, 0.75]\n",
        "\n",
        "nr_values = y_test.shape[0] * y_test.shape[1]\n",
        "\n",
        "threshold_tuples = [(np.sum(y_test > th) / nr_values * 100, \\\n",
        "                     np.count_nonzero(np.logical_and(y_test > th, y_pred_test > th)) / nr_values * 100) \\\n",
        "                        for th in thresholds]\n",
        "\n",
        "negative_tuple = (np.sum(y_test < 0) / nr_values * 100, np.sum(y_pred_test < 0) / nr_values * 100)\n",
        "\n",
        "print(f'Percentage of negative predictions (i.e., due to no supply):')\n",
        "print(f'TRUE DATA - PREDICTIONS')\n",
        "print(f'{negative_tuple[0]:.2f} - {negative_tuple[1]:.2f}', '\\n')\n",
        "\n",
        "for i, th in enumerate(thresholds):\n",
        "    print(f'Percentage of freshly browsed values above {th}:')\n",
        "    print(f'TRUE DATA - PREDICTIONS')\n",
        "    print(f'{threshold_tuples[i][0]:.2f} - {threshold_tuples[i][1]:.2f}', '\\n')"
      ]
    },
    {
      "cell_type": "code",
      "execution_count": 20,
      "metadata": {
        "colab": {
          "base_uri": "https://localhost:8080/",
          "height": 489
        },
        "id": "qvrEPJN5NY_3",
        "outputId": "d3e51c84-5fb0-4523-90eb-d748d101d3be"
      },
      "outputs": [
        {
          "name": "stdout",
          "output_type": "stream",
          "text": [
            "Total number of values in target vectors: 5400\n"
          ]
        },
        {
          "data": {
            "image/png": "[encoded data removed]",
            "text/plain": [
              "<Figure size 550x500 with 1 Axes>"
            ]
          },
          "metadata": {},
          "output_type": "display_data"
        }
      ],
      "source": [
        "# Plotting difference in values above thresholds.\n",
        "nr_values = y_test.shape[0] * y_test.shape[1]\n",
        "print(f'Total number of values in target vectors: {nr_values}')\n",
        "\n",
        "bar_width = 0.35\n",
        "\n",
        "bar_positions1 = [x - bar_width / 2 for x in range(len(threshold_tuples))]\n",
        "bar_positions2 = [x + bar_width / 2 for x in range(len(threshold_tuples))]\n",
        "\n",
        "fig, ax = plt.subplots(figsize=(5.5,5))\n",
        "\n",
        "ax.bar_label(plt.bar(bar_positions1, [t[0] for t in threshold_tuples], \\\n",
        "    width=bar_width, color='cornflowerblue', label='TRUE VALUES'), fmt='%.2f')\n",
        "ax.bar_label(plt.bar(bar_positions2, [t[1] for t in threshold_tuples], \\\n",
        "    width=bar_width, color='orange', label='PREDICTIONS'), fmt='%.2f')\n",
        "\n",
        "ax.set_xticks(range(len(threshold_tuples)), [str(th) for th in thresholds])\n",
        "\n",
        "ax.set_xlabel('Value threshold')\n",
        "ax.set_ylabel('% of values')\n",
        "ax.set_title(f'Gradient Boosting Regressor \\n% of values above a threshold in the target variable')\n",
        "\n",
        "ax.legend()\n",
        "\n",
        "plt.tight_layout()\n",
        "\n",
        "plt.savefig(f'./Figures/CV_GB_values_above_threshold.png')\n",
        "\n",
        "plt.show()"
      ]
    },
    {
      "attachments": {},
      "cell_type": "markdown",
      "metadata": {},
      "source": [
        "## Beta regression"
      ]
    },
    {
      "attachments": {},
      "cell_type": "markdown",
      "metadata": {},
      "source": [
        "Defining custom regressor class - an sklearn compatible beta regressor."
      ]
    },
    {
      "cell_type": "code",
      "execution_count": 21,
      "metadata": {},
      "outputs": [],
      "source": [
        "class BetaRegressor(BaseEstimator, RegressorMixin):\n",
        "    \n",
        "    def __init__(self):\n",
        "        self.model = None\n",
        "\n",
        "    def fit(self, X, y):\n",
        "        X_statsmodels = sm.add_constant(X)\n",
        "        \n",
        "        self.model = BetaModel(y, X_statsmodels)\n",
        "\n",
        "        self.results = self.model.fit()\n",
        "\n",
        "    def predict(self, X):\n",
        "        X_statsmodels = sm.add_constant(X)\n",
        "        \n",
        "        return self.results.predict(X_statsmodels)"
      ]
    },
    {
      "cell_type": "code",
      "execution_count": 22,
      "metadata": {},
      "outputs": [
        {
          "name": "stdout",
          "output_type": "stream",
          "text": [
            "Progress: 100.0%\n",
            "Summary of cross validation for Zero-Inflated Beta Regressor:\n",
            "Classifier C value: 1\n"
          ]
        }
      ],
      "source": [
        "warnings.filterwarnings('ignore')\n",
        "\n",
        "C_s = [i for i in range(1,11)]\n",
        "\n",
        "total_combinations = len(C_s)\n",
        "\n",
        "progress_counter = 0\n",
        "\n",
        "# Exhanging ones to a value very close to 1 since beta regression cannot handle exactly 1.0 values.\n",
        "y_train_beta = y_train.copy()\n",
        "y_train_beta[y_train_beta == 1.0] = 1.0 - (-noSupply_value)\n",
        "\n",
        "best_score = float('inf')\n",
        "\n",
        "for C in C_s:\n",
        "    y_pred_cv = np.zeros_like(y_train_beta)\n",
        "\n",
        "    allZero = True\n",
        "\n",
        "    for i in range(np.shape(y_train_beta)[1]):\n",
        "        br = BetaRegressor()\n",
        "\n",
        "        zi_br = ZeroInflatedRegressor(classifier=SVC(C=C), regressor=br)    \n",
        "\n",
        "        # Using only columns where there IS supply from the species.\n",
        "        y_train_reg_rows = [r for r in range(np.shape(y_train_beta)[0]) if y_train_beta[r, i] >= 0]\n",
        "        y_train_noReg_rows = [r for r in range(np.shape(y_train_beta)[0]) if r not in y_train_reg_rows]\n",
        "\n",
        "        X_train_reg = X_train[y_train_reg_rows]\n",
        "        y_train_reg = y_train_beta[y_train_reg_rows, i]\n",
        "\n",
        "        # Ensuring that there is at least one non-zero value in the target variable.\n",
        "        y_train_reg[0] = -(-noSupply_value)\n",
        "\n",
        "        try:        # Algorithm runs into error if all predicted targets are 0 by the classifier.\n",
        "            y_pred_cv[y_train_reg_rows, i] = cross_val_predict(zi_br, X_train_reg, y_train_reg, cv=2)\n",
        "            allZero = False\n",
        "\n",
        "        except:\n",
        "             pass        # Nothing to do as default prediction is 0.\n",
        "\n",
        "        # Setting prediction for rows with no supply.\n",
        "        y_pred_cv[y_train_noReg_rows, i] = noSupply_value\n",
        "\n",
        "    # Importantly, the error is calculated with respect to the unmodified data.\n",
        "    mean_score = mean_squared_error(y_train, y_pred_cv)\n",
        "\n",
        "    if mean_score < best_score and allZero != True:     # Ensuring that the selected model does not classify all instances as 0 target.\n",
        "        best_score = mean_score\n",
        "        best_C = C\n",
        "\n",
        "    progress_counter += 1\n",
        "    progress_percent = progress_counter / total_combinations * 100\n",
        "\n",
        "    clear_output(wait=True)\n",
        "    print(f'Progress: {progress_percent:.1f}%')\n",
        "\n",
        "print(f'Summary of cross validation for Zero-Inflated Beta Regressor:')\n",
        "print(f'Classifier C value: {best_C}')"
      ]
    },
    {
      "cell_type": "code",
      "execution_count": 23,
      "metadata": {},
      "outputs": [],
      "source": [
        "with open('./CV/br.csv', 'w') as file:\n",
        "    file.write(f'best_C,{best_C}')"
      ]
    },
    {
      "cell_type": "code",
      "execution_count": 25,
      "metadata": {},
      "outputs": [
        {
          "name": "stderr",
          "output_type": "stream",
          "text": [
            "WARNING:root:Regressor ignores sample_weight.\n"
          ]
        },
        {
          "name": "stderr",
          "output_type": "stream",
          "text": [
            "WARNING:root:Regressor ignores sample_weight.\n",
            "WARNING:root:Regressor ignores sample_weight.\n",
            "WARNING:root:Regressor ignores sample_weight.\n",
            "WARNING:root:Regressor ignores sample_weight.\n",
            "WARNING:root:Regressor ignores sample_weight.\n",
            "WARNING:root:Regressor ignores sample_weight.\n",
            "WARNING:root:Regressor ignores sample_weight.\n",
            "WARNING:root:Regressor ignores sample_weight.\n",
            "WARNING:root:Regressor ignores sample_weight.\n",
            "WARNING:root:Regressor ignores sample_weight.\n"
          ]
        },
        {
          "name": "stdout",
          "output_type": "stream",
          "text": [
            "Summary of errors for Zero-Inflated Beta Regressor:\n",
            "Min Error: -1.0\n",
            "Max Error: 0.0\n",
            "Mean Error: 0.004757787982743302\n",
            "Median Error: 0.0\n",
            "Standard Deviation of Errors: 0.045401708077285864\n",
            "\n"
          ]
        }
      ],
      "source": [
        "# Exchanging ones to a value very close to 1 since beta regression cannot handle exactly 1.0 values.\n",
        "y_train_beta = y_train.copy()\n",
        "y_train_beta[y_train_beta == 1.0] = 1.0 - (-noSupply_value)\n",
        "\n",
        "y_test_beta = y_test.copy()\n",
        "y_test_beta[y_test_beta == 1.0] = 1.0 - (-noSupply_value)\n",
        "\n",
        "y_pred_test = np.zeros_like(y_test)\n",
        "\n",
        "zi_br = ZeroInflatedRegressor(classifier=SVC(C=best_C), regressor=BetaRegressor())\n",
        "\n",
        "for i in range(np.shape(y_test_beta)[1]):\n",
        "        # Using only rows where there WAS supply from the species.\n",
        "        reg_rows = [r for r in range(np.shape(y_test_beta)[0]) if y_test_beta[r, i] >= 0]\n",
        "        noReg_rows = [r for r in range(np.shape(y_test_beta)[0]) if r not in reg_rows]\n",
        "\n",
        "        X_train_reg = X_train[reg_rows]\n",
        "        y_train_reg = y_train_beta[reg_rows, i]\n",
        "\n",
        "        if len(y_train_reg) > 0:\n",
        "                # Ensuring that there is at least one non-zero value in the target variable.\n",
        "                y_train_reg[0] = -(-noSupply_value)\n",
        "                \n",
        "                X_test_reg = X_test[reg_rows]\n",
        "\n",
        "                try:    # Runs into error if all target values are 0, so in that case, all predictions are set to 0.\n",
        "                        zi_br.fit(X_train_reg, y_train_reg)\n",
        "                        y_pred_test[reg_rows,i] = zi_br.predict(X_test_reg)\n",
        "\n",
        "                except:\n",
        "                        pass    # Nothing to do as default prediction is 0.\n",
        "\n",
        "        # Setting prediction for rows with no supply.\n",
        "        y_pred_test[noReg_rows, i] = noSupply_value\n",
        "\n",
        "# Calculate prediction errors on the test set\n",
        "errors = y_pred_test - y_test\n",
        "\n",
        "# Report the desired metrics\n",
        "min_error = np.min(errors)\n",
        "max_error = np.max(errors)\n",
        "mean_error = np.mean(np.abs(errors))\n",
        "median_error = np.median(errors)\n",
        "std_error = np.std(np.abs(errors))\n",
        "\n",
        "print(f'Summary of errors for Zero-Inflated Beta Regressor:')\n",
        "print(\"Min Error:\", min_error)\n",
        "print(\"Max Error:\", max_error)\n",
        "print(\"Mean Error:\", mean_error)\n",
        "print(\"Median Error:\", median_error)\n",
        "print(\"Standard Deviation of Errors:\", std_error)\n",
        "print('')\n",
        "\n",
        "warnings.filterwarnings('default')"
      ]
    },
    {
      "cell_type": "code",
      "execution_count": 26,
      "metadata": {},
      "outputs": [
        {
          "name": "stdout",
          "output_type": "stream",
          "text": [
            "Percentage of negative predictions (i.e., due to no supply):\n",
            "TRUE DATA - PREDICTIONS\n",
            "92.33 - 92.33 \n",
            "\n",
            "Percentage of freshly browsed values above 0.25:\n",
            "TRUE DATA - PREDICTIONS\n",
            "0.69 - 0.00 \n",
            "\n",
            "Percentage of freshly browsed values above 0.5:\n",
            "TRUE DATA - PREDICTIONS\n",
            "0.20 - 0.00 \n",
            "\n",
            "Percentage of freshly browsed values above 0.75:\n",
            "TRUE DATA - PREDICTIONS\n",
            "0.09 - 0.00 \n",
            "\n"
          ]
        }
      ],
      "source": [
        "thresholds = [0.25, 0.5, 0.75]\n",
        "\n",
        "nr_values = y_test.shape[0] * y_test.shape[1]\n",
        "\n",
        "threshold_tuples = [(np.sum(y_test > th) / nr_values * 100, \\\n",
        "                     np.count_nonzero(np.logical_and(y_test > th, y_pred_test > th)) / nr_values * 100) \\\n",
        "                        for th in thresholds]\n",
        "\n",
        "negative_tuple = (np.sum(y_test < 0) / nr_values * 100, np.sum(y_pred_test < 0) / nr_values * 100)\n",
        "\n",
        "print(f'Percentage of negative predictions (i.e., due to no supply):')\n",
        "print(f'TRUE DATA - PREDICTIONS')\n",
        "print(f'{negative_tuple[0]:.2f} - {negative_tuple[1]:.2f}', '\\n')\n",
        "\n",
        "for i, th in enumerate(thresholds):\n",
        "    print(f'Percentage of freshly browsed values above {th}:')\n",
        "    print(f'TRUE DATA - PREDICTIONS')\n",
        "    print(f'{threshold_tuples[i][0]:.2f} - {threshold_tuples[i][1]:.2f}', '\\n')"
      ]
    },
    {
      "cell_type": "code",
      "execution_count": 27,
      "metadata": {},
      "outputs": [
        {
          "name": "stdout",
          "output_type": "stream",
          "text": [
            "Total number of values in target vectors: 5400\n"
          ]
        },
        {
          "data": {
            "image/png": "[encoded data removed]",
            "text/plain": [
              "<Figure size 550x500 with 1 Axes>"
            ]
          },
          "metadata": {},
          "output_type": "display_data"
        }
      ],
      "source": [
        "# Plotting difference in values above thresholds.\n",
        "nr_values = y_test.shape[0] * y_test.shape[1]\n",
        "print(f'Total number of values in target vectors: {nr_values}')\n",
        "\n",
        "bar_width = 0.35\n",
        "\n",
        "bar_positions1 = [x - bar_width / 2 for x in range(len(threshold_tuples))]\n",
        "bar_positions2 = [x + bar_width / 2 for x in range(len(threshold_tuples))]\n",
        "\n",
        "fig, ax = plt.subplots(figsize=(5.5,5))\n",
        "\n",
        "ax.bar_label(plt.bar(bar_positions1, [t[0] for t in threshold_tuples], \\\n",
        "    width=bar_width, color='cornflowerblue', label='TRUE VALUES'), fmt='%.2f')\n",
        "ax.bar_label(plt.bar(bar_positions2, [t[1] for t in threshold_tuples], \\\n",
        "    width=bar_width, color='orange', label='PREDICTIONS'), fmt='%.2f')\n",
        "\n",
        "ax.set_xticks(range(len(threshold_tuples)), [str(th) for th in thresholds])\n",
        "\n",
        "ax.set_xlabel('Value threshold')\n",
        "ax.set_ylabel('% of values')\n",
        "ax.set_title(f'Zero-Inflated Beta Regressor \\n% of values above a threshold in the target variable')\n",
        "\n",
        "ax.legend()\n",
        "\n",
        "plt.tight_layout()\n",
        "\n",
        "plt.savefig(f'./Figures/CV_BR_values_above_threshold.png')\n",
        "\n",
        "plt.show()"
      ]
    }
  ],
  "metadata": {
    "accelerator": "GPU",
    "colab": {
      "gpuType": "T4",
      "provenance": []
    },
    "kernelspec": {
      "display_name": "Python 3",
      "name": "python3"
    },
    "language_info": {
      "codemirror_mode": {
        "name": "ipython",
        "version": 3
      },
      "file_extension": ".py",
      "mimetype": "text/x-python",
      "name": "python",
      "nbconvert_exporter": "python",
      "pygments_lexer": "ipython3",
      "version": "3.9.7"
    }
  },
  "nbformat": 4,
  "nbformat_minor": 0
}
