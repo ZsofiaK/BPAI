{
 "cells": [
  {
   "attachments": {},
   "cell_type": "markdown",
   "metadata": {},
   "source": [
    "# Pilot run of the ML models\n",
    "\n",
    "A preliminary run of the ML models on the original dataset (before applying the sliding-window approach)."
   ]
  },
  {
   "cell_type": "code",
   "execution_count": 34,
   "metadata": {},
   "outputs": [],
   "source": [
    "import numpy as np\n",
    "import pandas as pd\n",
    "\n",
    "from sklearn.model_selection import train_test_split, cross_val_predict\n",
    "from sklearn.metrics import mean_squared_error\n",
    "\n",
    "from sklearn.base import BaseEstimator, RegressorMixin\n",
    "\n",
    "from sklearn.ensemble import RandomForestRegressor, GradientBoostingRegressor\n",
    "from sklearn.svm import SVC\n",
    "from sklego.meta import ZeroInflatedRegressor\n",
    "\n",
    "import statsmodels.api as sm\n",
    "from statsmodels.othermod.betareg import BetaModel\n",
    "\n",
    "from matplotlib import pyplot as plt\n",
    "\n",
    "from IPython.display import clear_output\n",
    "\n",
    "import warnings"
   ]
  },
  {
   "cell_type": "code",
   "execution_count": 4,
   "metadata": {},
   "outputs": [],
   "source": [
    "# Reading data as pandas dataframe to allow for headers\n",
    "X_df = pd.read_csv('./Data/predictors_fl.csv')\n",
    "y_df = pd.read_csv('./Data/freshly_browsed_dist_fl.csv')"
   ]
  },
  {
   "cell_type": "code",
   "execution_count": 5,
   "metadata": {},
   "outputs": [],
   "source": [
    "# Numpy data arrays excluding headers\n",
    "X = X_df.values\n",
    "y = y_df.values"
   ]
  },
  {
   "cell_type": "code",
   "execution_count": 6,
   "metadata": {},
   "outputs": [
    {
     "name": "stdout",
     "output_type": "stream",
     "text": [
      "Shape of predictors: (2100, 81)\n",
      "Shape of target values: (2100, 27)\n"
     ]
    }
   ],
   "source": [
    "print(f'Shape of predictors: {np.shape(X)}')\n",
    "print(f'Shape of target values: {np.shape(y)}')"
   ]
  },
  {
   "cell_type": "code",
   "execution_count": 7,
   "metadata": {},
   "outputs": [],
   "source": [
    "# Normalizing all shoots offered values, which are the only one not on a scale of 0 - 1.0.\n",
    "cols_to_normalize = [i for i in range(np.shape(X)[1]) if i % 3 == 0]\n",
    "\n",
    "smoothing = 0.00001     # Applied so that 0 division does not cause any problems while normalizing.\n",
    "\n",
    "X[:, cols_to_normalize] = (X[:, cols_to_normalize] - (X[:, cols_to_normalize].min(axis=0) + smoothing)) \\\n",
    "                           / (X[:, cols_to_normalize].max(axis=0) - (X[:, cols_to_normalize].min(axis=0)+ smoothing))"
   ]
  },
  {
   "cell_type": "code",
   "execution_count": 8,
   "metadata": {},
   "outputs": [],
   "source": [
    "# Value in target variable if there was no shoot supply.\n",
    "noSupply_value = -0.00001"
   ]
  },
  {
   "attachments": {},
   "cell_type": "markdown",
   "metadata": {},
   "source": [
    "## Random forest regression"
   ]
  },
  {
   "cell_type": "code",
   "execution_count": 21,
   "metadata": {},
   "outputs": [
    {
     "name": "stdout",
     "output_type": "stream",
     "text": [
      "Progress: 100.0%\n",
      "\n",
      "Number of trees: 21\n",
      "Maximum tree depth: 3\n",
      "Number of samples used to train a single tree: 0.2\n"
     ]
    }
   ],
   "source": [
    "# Split the dataset into train and test sets\n",
    "X_train, X_test, y_train, y_test = train_test_split(X, y, test_size=0.1, random_state=1)\n",
    "\n",
    "# Perform cross-validation to find the best hyperparameters\n",
    "n_estimators = [i for i in range(1, 101, 5)]\n",
    "max_depth = [None]\n",
    "max_depth.extend([i for i in range(1, 11)])\n",
    "max_samples = [None]\n",
    "max_samples.extend([i/10 for i in range(2, 10, 2)])\n",
    "\n",
    "total_combinations = len(n_estimators) * len(max_depth) * len(max_samples)\n",
    "progress_counter = 0\n",
    "\n",
    "best_score = float('inf')\n",
    "best_n_estimators = None\n",
    "best_max_depth = None\n",
    "best_max_samples = None\n",
    "\n",
    "for est in n_estimators:\n",
    "    for depth in max_depth:\n",
    "        for samples in max_samples:\n",
    "            rf = RandomForestRegressor(n_estimators=est, max_depth=depth, max_samples=samples, random_state=23)\n",
    "            y_pred_cv = cross_val_predict(rf, X_train, y_train, cv=2)\n",
    "            \n",
    "            # Apply modification to the predicted values based on X values\n",
    "            for i in range(y_pred_cv.shape[0]):\n",
    "                for j in range(X_train.shape[1]):\n",
    "                    if j % 3 == 0:\n",
    "                        if X_train[i, j] == 0:\n",
    "                            y_pred_cv[i, j // 3] = noSupply_value\n",
    "\n",
    "                        elif y_pred_cv[i, j // 3] < 0:\n",
    "                            y_pred_cv[i, j // 3] = 0\n",
    "                \n",
    "            mean_score = mean_squared_error(y_train, y_pred_cv)\n",
    "            \n",
    "            if mean_score < best_score:\n",
    "                best_score = mean_score\n",
    "                best_n_estimators = est\n",
    "                best_max_depth = depth\n",
    "                best_max_samples = samples\n",
    "\n",
    "            progress_counter += 1\n",
    "            progress_percent = progress_counter / total_combinations * 100\n",
    "\n",
    "            clear_output(wait=True)\n",
    "            print(f'Progress: {progress_percent:.1f}%')\n",
    "\n",
    "print('')\n",
    "print(f'Number of trees: {best_n_estimators}')\n",
    "print(f'Maximum tree depth: {best_max_depth}')\n",
    "print(f'Number of samples used to train a single tree: {best_max_samples}')"
   ]
  },
  {
   "cell_type": "code",
   "execution_count": 22,
   "metadata": {},
   "outputs": [
    {
     "name": "stdout",
     "output_type": "stream",
     "text": [
      "Min Error: -0.6077225863332288\n",
      "Max Error: 0.15616434831897474\n",
      "Mean Error: 0.0023481828243482926\n",
      "Median Error: 0.0002247046609569317\n",
      "Standard Deviation of Errors: 0.019184620344084934\n"
     ]
    }
   ],
   "source": [
    "# Train the random forest regressor with the best hyperparameters\n",
    "rf = RandomForestRegressor(n_estimators=best_n_estimators, max_depth=best_max_depth, \\\n",
    "                           max_samples=best_max_samples, random_state=23)\n",
    "rf.fit(X_train, y_train)\n",
    "\n",
    "# Predict on the test set\n",
    "y_pred_test = rf.predict(X_test)\n",
    "\n",
    "# Apply modification to the predicted values based on X values\n",
    "for i in range(y_pred_test.shape[0]):\n",
    "    for j in range(X_test.shape[1]):\n",
    "        if j % 3 == 0:\n",
    "            if X_test[i, j] == 0:\n",
    "                y_pred_test[i, j // 3] = noSupply_value\n",
    "\n",
    "            elif y_pred_test[i, j // 3] < 0:\n",
    "                y_pred_test[i, j // 3] = 0\n",
    "        \n",
    "\n",
    "# Calculate prediction errors on the test set\n",
    "errors = y_pred_test - y_test\n",
    "\n",
    "# Report the desired metrics\n",
    "min_error = np.min(errors)\n",
    "max_error = np.max(errors)\n",
    "mean_error = np.mean(np.abs(errors))\n",
    "median_error = np.median(errors)\n",
    "std_error = np.std(np.abs(errors))\n",
    "\n",
    "print(\"Min Error:\", min_error)\n",
    "print(\"Max Error:\", max_error)\n",
    "print(\"Mean Error:\", mean_error)\n",
    "print(\"Median Error:\", median_error)\n",
    "print(\"Standard Deviation of Errors:\", std_error)"
   ]
  },
  {
   "cell_type": "code",
   "execution_count": 23,
   "metadata": {},
   "outputs": [
    {
     "name": "stdout",
     "output_type": "stream",
     "text": [
      "Percentage of freshly browsed values above 0.25:\n",
      "TRUE DATA - PREDICTIONS\n",
      "0.18 - 0.00 \n",
      "\n",
      "Percentage of freshly browsed values above 0.5:\n",
      "TRUE DATA - PREDICTIONS\n",
      "0.04 - 0.00 \n",
      "\n",
      "Percentage of freshly browsed values above 0.75:\n",
      "TRUE DATA - PREDICTIONS\n",
      "0.00 - 0.00 \n",
      "\n"
     ]
    }
   ],
   "source": [
    "thresholds = [0.25, 0.5, 0.75]\n",
    "\n",
    "nr_values = y_test.shape[0] * y_test.shape[1]\n",
    "\n",
    "threshold_tuples = [(np.sum(y_test > th) / nr_values * 100, np.sum(y_pred_test > th) / nr_values * 100) for th in thresholds]\n",
    "\n",
    "for i, th in enumerate(thresholds):\n",
    "    print(f'Percentage of freshly browsed values above {th}:')\n",
    "    print(f'TRUE DATA - PREDICTIONS')\n",
    "    print(f'{threshold_tuples[i][0]:.2f} - {threshold_tuples[i][1]:.2f}', '\\n')"
   ]
  },
  {
   "cell_type": "code",
   "execution_count": 24,
   "metadata": {},
   "outputs": [
    {
     "name": "stdout",
     "output_type": "stream",
     "text": [
      "Total number of values in target vectors: 5670\n"
     ]
    },
    {
     "data": {
      "image/png": "[encoded data removed]",
      "text/plain": [
       "<Figure size 640x480 with 1 Axes>"
      ]
     },
     "metadata": {},
     "output_type": "display_data"
    }
   ],
   "source": [
    "# Plotting difference in values above thresholds.\n",
    "\n",
    "nr_values = y_test.shape[0] * y_test.shape[1]\n",
    "print(f'Total number of values in target vectors: {nr_values}')\n",
    "\n",
    "bar_width = 0.35\n",
    "\n",
    "bar_positions1 = [x - bar_width / 2 for x in range(len(threshold_tuples))]\n",
    "bar_positions2 = [x + bar_width / 2 for x in range(len(threshold_tuples))]\n",
    "\n",
    "plt.bar(bar_positions1, [t[0] for t in threshold_tuples], width=bar_width, color='cornflowerblue', label='TRUE VALUES')\n",
    "plt.bar(bar_positions2, [t[1] for t in threshold_tuples], width=bar_width, color='orange', label='PREDICTIONS')\n",
    "\n",
    "plt.xticks(range(len(threshold_tuples)), [str(th) for th in thresholds])\n",
    "\n",
    "plt.xlabel('Value threshold')\n",
    "plt.ylabel('% of values')\n",
    "plt.title('% of values above a threshold in the target variable')\n",
    "\n",
    "plt.legend()\n",
    "\n",
    "plt.show\n",
    "\n",
    "plt.savefig(f'./Figures/pilot_RF_values_above_threshold.png')"
   ]
  },
  {
   "attachments": {},
   "cell_type": "markdown",
   "metadata": {},
   "source": [
    "## Gradient boosting regressor"
   ]
  },
  {
   "cell_type": "code",
   "execution_count": 26,
   "metadata": {},
   "outputs": [
    {
     "name": "stdout",
     "output_type": "stream",
     "text": [
      "Progress: 100.0%\n",
      "\n",
      "Learning rate: 0.1\n",
      "Number of trees: 50\n",
      "Maximum tree depth: 1\n",
      "Mean squared error of best model: 0.0006919545313686845\n"
     ]
    }
   ],
   "source": [
    "# Split the dataset into train and test sets\n",
    "X_train, X_test, y_train, y_test = train_test_split(X, y, test_size=0.1, random_state=1)\n",
    "\n",
    "# Perform cross-validation to find the best hyperparameters\n",
    "learning_rates = [0.1, 0.01, 0.001]\n",
    "n_estimators = [i for i in range(50, 550, 100)]\n",
    "max_depth = [None]\n",
    "max_depth.extend([i for i in range(1, 11, 2)])\n",
    "\n",
    "total_combinations = len(learning_rates) * len(n_estimators) * len(max_depth)\n",
    "progress_counter = 0\n",
    "\n",
    "best_score = float('inf')\n",
    "best_n_estimators = None\n",
    "best_max_depth = None\n",
    "\n",
    "for rate in learning_rates:\n",
    "    for est in n_estimators:\n",
    "        for depth in max_depth:\n",
    "            y_pred_cv = np.zeros_like(y_train)\n",
    "            gb = GradientBoostingRegressor(learning_rate=rate, n_estimators=est, max_depth=depth, random_state=42, \\\n",
    "                                           validation_fraction=0.1, n_iter_no_change=10)\n",
    "\n",
    "            for i in range(np.shape(y_train)[1]):\n",
    "                y_pred_cv[:,i] = cross_val_predict(gb, X_train, y_train[:,i], cv=2, n_jobs=-1)\n",
    "                \n",
    "            # Apply modification to the predicted values based on X values\n",
    "            for i in range(y_pred_cv.shape[0]):\n",
    "                for j in range(X_train.shape[1]):\n",
    "                    if j % 3 == 0:\n",
    "                        if X_train[i, j] == 0:\n",
    "                            y_pred_cv[i, j // 3] = noSupply_value\n",
    "\n",
    "                        elif y_pred_cv[i, j // 3] < 0:\n",
    "                            y_pred_cv[i, j // 3] = 0\n",
    "                \n",
    "            mean_score = mean_squared_error(y_train, y_pred_cv)\n",
    "            \n",
    "            if mean_score < best_score:\n",
    "                best_score = mean_score\n",
    "                best_rate = rate\n",
    "                best_n_estimators = est\n",
    "                best_max_depth = depth\n",
    "\n",
    "            progress_counter += 1\n",
    "            progress_percent = progress_counter / total_combinations * 100\n",
    "\n",
    "            clear_output(wait=True)\n",
    "            print(f'Progress: {progress_percent:.1f}%')\n",
    "\n",
    "print('')\n",
    "print(f'Learning rate: {best_rate}')\n",
    "print(f'Number of trees: {best_n_estimators}')\n",
    "print(f'Maximum tree depth: {best_max_depth}')\n",
    "print(f'Mean squared error of best model: {best_score}')"
   ]
  },
  {
   "cell_type": "code",
   "execution_count": 29,
   "metadata": {},
   "outputs": [
    {
     "name": "stdout",
     "output_type": "stream",
     "text": [
      "Summary of errors for Gradient Boosting Regressor:\n",
      "Min Error: -0.5928083485164701\n",
      "Max Error: 0.3999128147350866\n",
      "Mean Error: 0.0022167422180739966\n",
      "Median Error: 3.64361768880478e-05\n",
      "Standard Deviation of Errors: 0.01948525361774537\n",
      "\n"
     ]
    }
   ],
   "source": [
    "gb = GradientBoostingRegressor(learning_rate=best_rate, n_estimators=best_n_estimators, \\\n",
    "    max_depth=best_max_depth, random_state=23)\n",
    "\n",
    "y_pred_test = np.zeros_like(y_test)\n",
    "\n",
    "for j in range(np.shape(y_test)[1]):\n",
    "    gb.fit(X_train, y_train[:,j])\n",
    "    y_pred_test[:,j] = gb.predict(X_test)\n",
    "\n",
    "    for i in range(y_pred_test.shape[0]):\n",
    "            if X_test[i, j*3] == 0:\n",
    "                    y_pred_test[i, j] = noSupply_value\n",
    "\n",
    "            elif y_pred_test[i, j] < 0:\n",
    "                y_pred_test[i, j] = 0\n",
    "\n",
    "# Calculate prediction errors on the test set\n",
    "errors = y_pred_test - y_test\n",
    "\n",
    "# Report the desired metrics\n",
    "min_error = np.min(errors)\n",
    "max_error = np.max(errors)\n",
    "mean_error = np.mean(np.abs(errors))\n",
    "median_error = np.median(errors)\n",
    "std_error = np.std(np.abs(errors))\n",
    "\n",
    "print(f'Summary of errors for Gradient Boosting Regressor:')\n",
    "print(\"Min Error:\", min_error)\n",
    "print(\"Max Error:\", max_error)\n",
    "print(\"Mean Error:\", mean_error)\n",
    "print(\"Median Error:\", median_error)\n",
    "print(\"Standard Deviation of Errors:\", std_error)\n",
    "print('')"
   ]
  },
  {
   "cell_type": "code",
   "execution_count": 30,
   "metadata": {},
   "outputs": [
    {
     "name": "stdout",
     "output_type": "stream",
     "text": [
      "Percentage of freshly browsed values above 0.25:\n",
      "TRUE DATA - PREDICTIONS\n",
      "0.18 - 0.05 \n",
      "\n",
      "Percentage of freshly browsed values above 0.5:\n",
      "TRUE DATA - PREDICTIONS\n",
      "0.04 - 0.00 \n",
      "\n",
      "Percentage of freshly browsed values above 0.75:\n",
      "TRUE DATA - PREDICTIONS\n",
      "0.00 - 0.00 \n",
      "\n"
     ]
    }
   ],
   "source": [
    "thresholds = [0.25, 0.5, 0.75]\n",
    "\n",
    "nr_values = y_test.shape[0] * y_test.shape[1]\n",
    "\n",
    "threshold_tuples = [(np.sum(y_test > th) / nr_values * 100, np.sum(y_pred_test > th) / nr_values * 100) for th in thresholds]\n",
    "\n",
    "for i, th in enumerate(thresholds):\n",
    "    print(f'Percentage of freshly browsed values above {th}:')\n",
    "    print(f'TRUE DATA - PREDICTIONS')\n",
    "    print(f'{threshold_tuples[i][0]:.2f} - {threshold_tuples[i][1]:.2f}', '\\n')"
   ]
  },
  {
   "cell_type": "code",
   "execution_count": 31,
   "metadata": {},
   "outputs": [
    {
     "name": "stdout",
     "output_type": "stream",
     "text": [
      "Total number of values in target vectors: 5670\n"
     ]
    },
    {
     "data": {
      "image/png": "[encoded data removed]",
      "text/plain": [
       "<Figure size 640x480 with 1 Axes>"
      ]
     },
     "metadata": {},
     "output_type": "display_data"
    }
   ],
   "source": [
    "# Plotting difference in values above thresholds.\n",
    "\n",
    "nr_values = y_test.shape[0] * y_test.shape[1]\n",
    "print(f'Total number of values in target vectors: {nr_values}')\n",
    "\n",
    "bar_width = 0.35\n",
    "\n",
    "bar_positions1 = [x - bar_width / 2 for x in range(len(threshold_tuples))]\n",
    "bar_positions2 = [x + bar_width / 2 for x in range(len(threshold_tuples))]\n",
    "\n",
    "plt.bar(bar_positions1, [t[0] for t in threshold_tuples], width=bar_width, color='cornflowerblue', label='TRUE VALUES')\n",
    "plt.bar(bar_positions2, [t[1] for t in threshold_tuples], width=bar_width, color='orange', label='PREDICTIONS')\n",
    "\n",
    "plt.xticks(range(len(threshold_tuples)), [str(th) for th in thresholds])\n",
    "\n",
    "plt.xlabel('Value threshold')\n",
    "plt.ylabel('% of values')\n",
    "plt.title('% of values above a threshold in the target variable')\n",
    "\n",
    "plt.legend()\n",
    "\n",
    "plt.show\n",
    "\n",
    "plt.savefig(f'./Figures/pilot_GB_values_above_threshold.png')"
   ]
  },
  {
   "attachments": {},
   "cell_type": "markdown",
   "metadata": {},
   "source": [
    "## Beta Regressor"
   ]
  },
  {
   "cell_type": "code",
   "execution_count": 35,
   "metadata": {},
   "outputs": [],
   "source": [
    "class BetaRegressor(BaseEstimator, RegressorMixin):\n",
    "    \n",
    "    def __init__(self):\n",
    "        self.model = None\n",
    "\n",
    "    def fit(self, X, y):\n",
    "        X_statsmodels = sm.add_constant(X)\n",
    "        \n",
    "        self.model = BetaModel(y, X_statsmodels)\n",
    "\n",
    "        self.results = self.model.fit()\n",
    "\n",
    "    def predict(self, X):\n",
    "        X_statsmodels = sm.add_constant(X)\n",
    "        \n",
    "        return self.results.predict(X_statsmodels)"
   ]
  },
  {
   "cell_type": "code",
   "execution_count": 36,
   "metadata": {},
   "outputs": [
    {
     "name": "stdout",
     "output_type": "stream",
     "text": [
      "Progress: 100.0%\n",
      "Summary of cross validation for Zero-Inflated Beta Regressor:\n",
      "Classifier C value: 1\n"
     ]
    }
   ],
   "source": [
    "warnings.filterwarnings('ignore')\n",
    "\n",
    "C_s = [i for i in range(1,11)]\n",
    "\n",
    "total_combinations = len(C_s)\n",
    "\n",
    "progress_counter = 0\n",
    "\n",
    "# Exhanging ones to a value very close to 1 since beta regression cannot handle exactly 1.0 values.\n",
    "y_train_beta = y_train.copy()\n",
    "y_train_beta[y_train_beta == 1.0] = 1.0 - (-noSupply_value)\n",
    "\n",
    "best_score = float('inf')\n",
    "\n",
    "for C in C_s:\n",
    "    y_pred_cv = np.zeros_like(y_train_beta)\n",
    "\n",
    "    allZero = True\n",
    "\n",
    "    for i in range(np.shape(y_train_beta)[1]):\n",
    "        br = BetaRegressor()\n",
    "\n",
    "        zi_br = ZeroInflatedRegressor(classifier=SVC(C=C), regressor=br)    \n",
    "\n",
    "        # Using only columns where there IS supply from the species.\n",
    "        y_train_reg_rows = [r for r in range(np.shape(y_train_beta)[0]) if y_train_beta[r, i] >= 0]\n",
    "        y_train_noReg_rows = [r for r in range(np.shape(y_train_beta)[0]) if r not in y_train_reg_rows]\n",
    "\n",
    "        X_train_reg = X_train[y_train_reg_rows]\n",
    "        y_train_reg = y_train_beta[y_train_reg_rows, i]\n",
    "\n",
    "        # Ensuring that there is at least one non-zero value in the target variable.\n",
    "        y_train_reg[0] = -(-noSupply_value)\n",
    "\n",
    "        try:        # Algorithm runs into error if all predicted targets are 0 by the classifier.\n",
    "            y_pred_cv[y_train_reg_rows, i] = cross_val_predict(zi_br, X_train_reg, y_train_reg, cv=2)\n",
    "            allZero = False\n",
    "\n",
    "        except:\n",
    "             pass        # Nothing to do as default prediction is 0.\n",
    "\n",
    "        # Setting prediction for rows with no supply.\n",
    "        y_pred_cv[y_train_noReg_rows, i] = noSupply_value\n",
    "\n",
    "    # Importantly, the error is calculated with respect to the unmodified data.\n",
    "    mean_score = mean_squared_error(y_train, y_pred_cv)\n",
    "\n",
    "    if mean_score < best_score and allZero != True:     # Ensuring that the selected model does not classify all instances as 0 target.\n",
    "        best_score = mean_score\n",
    "        best_C = C\n",
    "\n",
    "    progress_counter += 1\n",
    "    progress_percent = progress_counter / total_combinations * 100\n",
    "\n",
    "    clear_output(wait=True)\n",
    "    print(f'Progress: {progress_percent:.1f}%')\n",
    "\n",
    "print(f'Summary of cross validation for Zero-Inflated Beta Regressor:')\n",
    "print(f'Classifier C value: {best_C}')"
   ]
  },
  {
   "cell_type": "code",
   "execution_count": 37,
   "metadata": {},
   "outputs": [
    {
     "name": "stderr",
     "output_type": "stream",
     "text": [
      "WARNING:root:Regressor ignores sample_weight.\n",
      "WARNING:root:Regressor ignores sample_weight.\n"
     ]
    },
    {
     "name": "stdout",
     "output_type": "stream",
     "text": [
      "Summary of errors for Zero-Inflated Beta Regressor:\n",
      "Min Error: -0.6666666666666666\n",
      "Max Error: 0.0\n",
      "Mean Error: 0.0011448498436958802\n",
      "Median Error: 0.0\n",
      "Standard Deviation of Errors: 0.02005993427445003\n",
      "\n"
     ]
    }
   ],
   "source": [
    "# Exchanging ones to a value very close to 1 since beta regression cannot handle exactly 1.0 values.\n",
    "y_train_beta = y_train.copy()\n",
    "y_train_beta[y_train_beta == 1.0] = 1.0 - (-noSupply_value)\n",
    "\n",
    "y_test_beta = y_test.copy()\n",
    "y_test_beta[y_test_beta == 1.0] = 1.0 - (-noSupply_value)\n",
    "\n",
    "y_pred_test = np.zeros_like(y_test)\n",
    "\n",
    "zi_br = ZeroInflatedRegressor(classifier=SVC(C=best_C), regressor=BetaRegressor())\n",
    "\n",
    "for i in range(np.shape(y_test_beta)[1]):\n",
    "        # Using only rows where there WAS supply from the species.\n",
    "        reg_rows = [r for r in range(np.shape(y_test_beta)[0]) if y_test_beta[r, i] >= 0]\n",
    "        noReg_rows = [r for r in range(np.shape(y_test_beta)[0]) if r not in reg_rows]\n",
    "\n",
    "        X_train_reg = X_train[reg_rows]\n",
    "        y_train_reg = y_train_beta[reg_rows, i]\n",
    "\n",
    "        if len(y_train_reg) > 0:\n",
    "                # Ensuring that there is at least one non-zero value in the target variable.\n",
    "                y_train_reg[0] = -(-noSupply_value)\n",
    "                \n",
    "                X_test_reg = X_test[reg_rows]\n",
    "\n",
    "                try:    # Runs into error if all target values are 0, so in that case, all predictions are set to 0.\n",
    "                        zi_br.fit(X_train_reg, y_train_reg)\n",
    "                        y_pred_test[reg_rows,i] = zi_br.predict(X_test_reg)\n",
    "\n",
    "                except:\n",
    "                        pass    # Nothing to do as default prediction is 0.\n",
    "\n",
    "        # Setting prediction for rows with no supply.\n",
    "        y_pred_test[noReg_rows, i] = noSupply_value\n",
    "\n",
    "# Calculate prediction errors on the test set\n",
    "errors = y_pred_test - y_test\n",
    "\n",
    "# Report the desired metrics\n",
    "min_error = np.min(errors)\n",
    "max_error = np.max(errors)\n",
    "mean_error = np.mean(np.abs(errors))\n",
    "median_error = np.median(errors)\n",
    "std_error = np.std(np.abs(errors))\n",
    "\n",
    "print(f'Summary of errors for Zero-Inflated Beta Regressor:')\n",
    "print(\"Min Error:\", min_error)\n",
    "print(\"Max Error:\", max_error)\n",
    "print(\"Mean Error:\", mean_error)\n",
    "print(\"Median Error:\", median_error)\n",
    "print(\"Standard Deviation of Errors:\", std_error)\n",
    "print('')\n",
    "\n",
    "warnings.filterwarnings('default')"
   ]
  },
  {
   "cell_type": "code",
   "execution_count": 38,
   "metadata": {},
   "outputs": [
    {
     "name": "stdout",
     "output_type": "stream",
     "text": [
      "Percentage of negative predictions (i.e., due to no supply):\n",
      "TRUE DATA - PREDICTIONS\n",
      "97.43 - 97.43 \n",
      "\n",
      "Percentage of freshly browsed values above 0.25:\n",
      "TRUE DATA - PREDICTIONS\n",
      "0.18 - 0.00 \n",
      "\n",
      "Percentage of freshly browsed values above 0.5:\n",
      "TRUE DATA - PREDICTIONS\n",
      "0.04 - 0.00 \n",
      "\n",
      "Percentage of freshly browsed values above 0.75:\n",
      "TRUE DATA - PREDICTIONS\n",
      "0.00 - 0.00 \n",
      "\n"
     ]
    }
   ],
   "source": [
    "thresholds = [0.25, 0.5, 0.75]\n",
    "\n",
    "nr_values = y_test.shape[0] * y_test.shape[1]\n",
    "\n",
    "threshold_tuples = [(np.sum(y_test > th) / nr_values * 100, \\\n",
    "                     np.count_nonzero(np.logical_and(y_test > th, y_pred_test > th)) / nr_values * 100) \\\n",
    "                        for th in thresholds]\n",
    "\n",
    "negative_tuple = (np.sum(y_test < 0) / nr_values * 100, np.sum(y_pred_test < 0) / nr_values * 100)\n",
    "\n",
    "print(f'Percentage of negative predictions (i.e., due to no supply):')\n",
    "print(f'TRUE DATA - PREDICTIONS')\n",
    "print(f'{negative_tuple[0]:.2f} - {negative_tuple[1]:.2f}', '\\n')\n",
    "\n",
    "for i, th in enumerate(thresholds):\n",
    "    print(f'Percentage of freshly browsed values above {th}:')\n",
    "    print(f'TRUE DATA - PREDICTIONS')\n",
    "    print(f'{threshold_tuples[i][0]:.2f} - {threshold_tuples[i][1]:.2f}', '\\n')"
   ]
  },
  {
   "cell_type": "code",
   "execution_count": 40,
   "metadata": {},
   "outputs": [
    {
     "name": "stdout",
     "output_type": "stream",
     "text": [
      "Total number of values in target vectors: 5670\n"
     ]
    },
    {
     "data": {
      "image/png": "[encoded data removed]",
      "text/plain": [
       "<Figure size 550x500 with 1 Axes>"
      ]
     },
     "metadata": {},
     "output_type": "display_data"
    }
   ],
   "source": [
    "# Plotting difference in values above thresholds.\n",
    "nr_values = y_test.shape[0] * y_test.shape[1]\n",
    "print(f'Total number of values in target vectors: {nr_values}')\n",
    "\n",
    "bar_width = 0.35\n",
    "\n",
    "bar_positions1 = [x - bar_width / 2 for x in range(len(threshold_tuples))]\n",
    "bar_positions2 = [x + bar_width / 2 for x in range(len(threshold_tuples))]\n",
    "\n",
    "fig, ax = plt.subplots(figsize=(5.5,5))\n",
    "\n",
    "ax.bar_label(plt.bar(bar_positions1, [t[0] for t in threshold_tuples], \\\n",
    "    width=bar_width, color='cornflowerblue', label='TRUE VALUES'), fmt='%.2f')\n",
    "ax.bar_label(plt.bar(bar_positions2, [t[1] for t in threshold_tuples], \\\n",
    "    width=bar_width, color='orange', label='PREDICTIONS'), fmt='%.2f')\n",
    "\n",
    "ax.set_xticks(range(len(threshold_tuples)), [str(th) for th in thresholds])\n",
    "\n",
    "ax.set_xlabel('Value threshold')\n",
    "ax.set_ylabel('% of values')\n",
    "ax.set_title(f'Zero-Inflated Beta Regressor \\n% of values above a threshold in the target variable')\n",
    "\n",
    "ax.legend()\n",
    "\n",
    "plt.tight_layout()\n",
    "\n",
    "plt.savefig(f'./Figures/pilot_BR_values_above_threshold.png')\n",
    "\n",
    "plt.show()"
   ]
  }
 ],
 "metadata": {
  "kernelspec": {
   "display_name": "Python 3 (ipykernel)",
   "language": "python",
   "name": "python3"
  },
  "language_info": {
   "codemirror_mode": {
    "name": "ipython",
    "version": 3
   },
   "file_extension": ".py",
   "mimetype": "text/x-python",
   "name": "python",
   "nbconvert_exporter": "python",
   "pygments_lexer": "ipython3",
   "version": "3.9.7"
  }
 },
 "nbformat": 4,
 "nbformat_minor": 4
}
